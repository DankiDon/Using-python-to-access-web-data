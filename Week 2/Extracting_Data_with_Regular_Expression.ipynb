{
 "cells": [
  {
   "cell_type": "markdown",
   "id": "b7d42eac",
   "metadata": {},
   "source": [
    "Week 2 exercise"
   ]
  },
  {
   "cell_type": "code",
   "execution_count": 16,
   "id": "e41ba051",
   "metadata": {},
   "outputs": [
    {
     "name": "stdout",
     "output_type": "stream",
     "text": [
      "334827\n"
     ]
    }
   ],
   "source": [
    "import re\n",
    "\n",
    "txt_file = open(\"regex_sum_1898474.txt\")\n",
    "\n",
    "text = txt_file.read()\n",
    "\n",
    "lst_of_numbers = re.findall('[0-9]+',text)\n",
    "\n",
    "total = 0\n",
    "for i in lst_of_numbers:\n",
    "    num = int(i)\n",
    "    total = total + num;\n",
    "\n",
    "print(total)\n",
    "\n",
    "file.close()"
   ]
  },
  {
   "cell_type": "markdown",
   "id": "aef46fb9",
   "metadata": {},
   "source": [
    "Week 3 exercise"
   ]
  },
  {
   "cell_type": "code",
   "execution_count": null,
   "id": "2586770f",
   "metadata": {},
   "outputs": [],
   "source": []
  }
 ],
 "metadata": {
  "kernelspec": {
   "display_name": "Python 3 (ipykernel)",
   "language": "python",
   "name": "python3"
  },
  "language_info": {
   "codemirror_mode": {
    "name": "ipython",
    "version": 3
   },
   "file_extension": ".py",
   "mimetype": "text/x-python",
   "name": "python",
   "nbconvert_exporter": "python",
   "pygments_lexer": "ipython3",
   "version": "3.9.12"
  }
 },
 "nbformat": 4,
 "nbformat_minor": 5
}
